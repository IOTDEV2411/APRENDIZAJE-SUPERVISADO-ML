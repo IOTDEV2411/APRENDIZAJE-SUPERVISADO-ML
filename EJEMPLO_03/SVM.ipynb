{
 "cells": [
  {
   "attachments": {},
   "cell_type": "markdown",
   "id": "1fae06ae-5e30-483e-aab1-bfd403816e10",
   "metadata": {},
   "source": [
    "# Modelo de Maquina de Soporte Vectorial\n",
    "\n",
    "<li>Algoritmo de aprendizaje supervisado usado principalemente para clasificación binaria</li> \n",
    "<li>Su ventaja se resalta cuando una los algoritmos como <b>REGRESION LOGISTICA<b> no son suficientes para realizar dicha tarea. </li>\n",
    "\n",
    "<img src=\"SVM.png\" alt=\"Maquina de Soporte Vectorial\" width=\"600\" />"
   ]
  },
  {
   "cell_type": "markdown",
   "id": "b050581d-d48d-44b0-86a0-5efca8e0eefa",
   "metadata": {},
   "source": [
    "# Importacion de Librerias"
   ]
  },
  {
   "cell_type": "code",
   "execution_count": null,
   "id": "c4c5098f-fff1-4a06-92f9-92983d479914",
   "metadata": {},
   "outputs": [],
   "source": [
    "from sklearn import datasets\n",
    "from sklearn.model_selection import train_test_split\n",
    "from sklearn.svm import SVC\n",
    "import matplotlib.pyplot as plt\n",
    "import numpy as np"
   ]
  },
  {
   "cell_type": "markdown",
   "id": "c9d03d2b-9f5c-481c-a3ef-a129f3e0d02a",
   "metadata": {},
   "source": [
    "# Importacion de Datos de Entrenamiento\n",
    "\n",
    "<lI>En este caso, importaremos el <b>conjunto de datos</b> de la flor <b>iris</b> disponible en la pagina oficial de <b>scikit-learn</b>:</lI>\n",
    "<li><b>https://scikit-learn.org/stable/modules/generated/sklearn.datasets.load_iris.html#sklearn.datasets.load_iris</b></li>"
   ]
  },
  {
   "cell_type": "code",
   "execution_count": null,
   "id": "b03bb70c-9258-4fc7-a882-6e1c637c6617",
   "metadata": {},
   "outputs": [],
   "source": [
    "# Cargar el dataset Iris\n",
    "iris = datasets.load_iris()\n",
    "X = iris.data  # Todas las características (04 entradas)\n",
    "y = iris.target # Salida Esperada\n",
    "\n",
    "# Graficar todas las combinaciones de características (limitar a 6 subplots)\n",
    "features = ['Largo del sépalo', 'Ancho del sépalo', 'Largo del pétalo', 'Ancho del pétalo']\n",
    "combinations = [(0, 1), (0, 2), (0, 3), (1, 2), (1, 3), (2, 3)]\n",
    "\n",
    "plt.figure(figsize=(12, 10))\n",
    "for k, (i, j) in enumerate(combinations):\n",
    "    plt.subplot(3, 2, k+1)\n",
    "    plt.scatter(X[:, i], X[:, j], c=y, cmap='viridis', marker='o')\n",
    "    plt.xlabel(features[i])\n",
    "    plt.ylabel(features[j])\n",
    "    plt.colorbar(ticks=[0, 1, 2], label='Clases')\n",
    "\n",
    "plt.suptitle(\"Combinaciones de Características del Dataset Iris\")\n",
    "plt.tight_layout(rect=[0, 0, 1, 0.96])\n",
    "plt.show()"
   ]
  },
  {
   "cell_type": "markdown",
   "id": "aadd3a81-ea59-433b-a3d3-7eea18f9c292",
   "metadata": {},
   "source": [
    "# Selección de características \n",
    "\n",
    "<li>Para este caso, seleccionaremos la caracteristica de <b>\"solo pétalos\"</b> para entrenar el modelo SVC</li>"
   ]
  },
  {
   "cell_type": "code",
   "execution_count": null,
   "id": "8a74d192-5c7b-4233-9b05-dd992eb63c03",
   "metadata": {},
   "outputs": [],
   "source": [
    "X = iris.data[:, 2:4]  # Seleccionamos características de pétalo"
   ]
  },
  {
   "cell_type": "markdown",
   "id": "69a7d68c-4d8b-4174-8580-8d411fdd1138",
   "metadata": {},
   "source": [
    "# Dividir los datos en conjuntos de entrenamiento y prueba\n",
    "<li>30% para datos de prueba y 70% para datos de entrenamiento</li>"
   ]
  },
  {
   "cell_type": "code",
   "execution_count": null,
   "id": "c43ebb3e-3081-4206-b05a-0b3b63a0e57e",
   "metadata": {},
   "outputs": [],
   "source": [
    "X_train, X_test, y_train, y_test = train_test_split(X, y, test_size=0.3, random_state=42)"
   ]
  },
  {
   "cell_type": "markdown",
   "id": "4a9076c8-89c2-4c2f-bd0d-56f867191559",
   "metadata": {},
   "source": [
    "# Creacion de Modelo"
   ]
  },
  {
   "cell_type": "code",
   "execution_count": null,
   "id": "42c897b9-6856-4356-b39a-139ca3ae0d79",
   "metadata": {},
   "outputs": [],
   "source": [
    "model = SVC(kernel='linear', C=1.0)"
   ]
  },
  {
   "cell_type": "markdown",
   "id": "7415567c-e27f-4b97-9cc1-fef95b131e10",
   "metadata": {},
   "source": [
    "# Entrenamiento"
   ]
  },
  {
   "cell_type": "code",
   "execution_count": null,
   "id": "8415b335-d26e-46b3-a283-a0cdc090a1a1",
   "metadata": {},
   "outputs": [],
   "source": [
    "# Entrenar el modelo SVC\n",
    "model.fit(X_train, y_train)"
   ]
  },
  {
   "cell_type": "markdown",
   "id": "273a81fb-a47e-4f69-a673-ef0095752669",
   "metadata": {},
   "source": [
    "# Prediccion de Salidas segun modelo"
   ]
  },
  {
   "cell_type": "code",
   "execution_count": null,
   "id": "f3117c52-1e2e-456f-8206-a87b8fdb1175",
   "metadata": {},
   "outputs": [],
   "source": [
    "# Realizar predicciones sobre el conjunto de prueba\n",
    "y_pred = model.predict(X_test)"
   ]
  },
  {
   "cell_type": "markdown",
   "id": "0f5bdae0-04fc-41ce-96eb-2876751c4af8",
   "metadata": {},
   "source": [
    "# Ploteo de Resultados"
   ]
  },
  {
   "cell_type": "code",
   "execution_count": null,
   "id": "730a80a8-5c03-40b4-8980-5419e8b9ec9a",
   "metadata": {},
   "outputs": [],
   "source": [
    "# Visualización de resultados\n",
    "plt.figure(figsize=(12, 6))\n",
    "\n",
    "# Gráfico de los datos de prueba originales\n",
    "plt.subplot(1, 2, 1)\n",
    "plt.scatter(X_test[:, 0], X_test[:, 1], c=y_test, cmap='viridis', marker='o')\n",
    "plt.title(\"Etiquetas Esperadas (Conjunto de Prueba)\")\n",
    "plt.xlabel('Largo del pétalo (cm)')\n",
    "plt.ylabel('Ancho del pétalo (cm)')\n",
    "plt.colorbar(ticks=[0, 1, 2], label='Clases')\n",
    "\n",
    "# Gráfico de los datos de prueba con predicciones\n",
    "plt.subplot(1, 2, 2)\n",
    "plt.scatter(X_test[:, 0], X_test[:, 1], c=y_pred, cmap='viridis', marker='x')\n",
    "plt.title(\"Predicciones del Modelo (Conjunto de Prueba)\")\n",
    "plt.xlabel('Largo del pétalo (cm)')\n",
    "plt.ylabel('Ancho del pétalo (cm)')\n",
    "plt.colorbar(ticks=[0, 1, 2], label='Clases')\n",
    "\n",
    "plt.tight_layout()\n",
    "plt.show()"
   ]
  },
  {
   "cell_type": "code",
   "execution_count": null,
   "id": "e28fa9e4-4b4f-495d-a23d-8720a7a61837",
   "metadata": {},
   "outputs": [],
   "source": []
  }
 ],
 "metadata": {
  "kernelspec": {
   "display_name": "Python 3 (ipykernel)",
   "language": "python",
   "name": "python3"
  },
  "language_info": {
   "codemirror_mode": {
    "name": "ipython",
    "version": 3
   },
   "file_extension": ".py",
   "mimetype": "text/x-python",
   "name": "python",
   "nbconvert_exporter": "python",
   "pygments_lexer": "ipython3",
   "version": "3.11.5"
  }
 },
 "nbformat": 4,
 "nbformat_minor": 5
}
