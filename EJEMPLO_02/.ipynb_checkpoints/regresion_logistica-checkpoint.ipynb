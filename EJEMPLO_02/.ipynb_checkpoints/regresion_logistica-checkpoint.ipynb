{
 "cells": [
  {
   "cell_type": "markdown",
   "metadata": {},
   "source": [
    "# Modelo de Regresión Logística\n",
    "\n",
    "<li>La regresión logística se utiliza para problemas de clasificación binaria. </li>\n",
    "<li>El objetivo es predecir la probabilidad de que una muestra pertenezca a una clase, utilizando una función logística.</li>"
   ]
  },
  {
   "cell_type": "markdown",
   "metadata": {},
   "source": [
    "## Fórmula Matemática:\n",
    "\n",
    "<li>El algoritmo en que se basa la regresion logistica es usando la funcion <b>sigmoide</b></li>\n",
    "\n",
    "<img src=\"Modelo_Matematico_Logistic_Regression.png\" alt=\"Regresion Logistica\" width=\"400\" />"
   ]
  },
  {
   "cell_type": "markdown",
   "metadata": {},
   "source": [
    "# Suposiciones\n",
    "\n",
    "<ul>\n",
    "<li>Dos clases</li>\n",
    "<li>No outliers (datos anómalos)</li>\n",
    "<li>Muestra relativamente grande</li>\n",
    "<li>Relación lineal entre las probabilidades logarítmicas y las variables predictoras</li>\n",
    "</ul>"
   ]
  },
  {
   "cell_type": "markdown",
   "metadata": {},
   "source": [
    "# Importación de Librerías\n",
    "\n",
    "<li><b>numpy (np)</b>: La usamos para manejar datos y generar puntos para el gráfico.</li>\n",
    "<li><b>LogisticRegression</b>: Esta es la clase del módulo sklearn que se encarga de crear el modelo de regresión logística.</li>\n",
    "<li><b>train_test_split</b>: Divide los datos en dos conjuntos:<br>\n",
    "    <ul>uno para entrenamiento y otro para prueba.</ul></li>\n",
    "<li><b>matplotlib.pyplot (plt)</b>: La usaremos para visualizar los datos y la curva sigmoide del modelo.</li>\n",
    "<li>Finalmente, el dataset para el entrenamiento de nuestra red la haremos a partir de los datasets almacenados en la libreria sklearn</li>\n",
    "<li>Mayor informacion sobre dicho dataset se puede encontrar en la siguiente direccion</li>\n",
    "<li><b>https://scikit-learn.org/stable/modules/generated/sklearn.datasets.load_breast_cancer.html#sklearn.datasets.load_breast_cancer</b></li>"
   ]
  },
  {
   "cell_type": "code",
   "execution_count": null,
   "metadata": {},
   "outputs": [],
   "source": [
    "import numpy as np\n",
    "import matplotlib.pyplot as plt\n",
    "from sklearn.linear_model import LogisticRegression\n",
    "from sklearn.model_selection import train_test_split\n",
    "from sklearn.datasets import load_breast_cancer"
   ]
  },
  {
   "cell_type": "markdown",
   "metadata": {},
   "source": [
    "# Cargar el conjunto de datos"
   ]
  },
  {
   "cell_type": "code",
   "execution_count": null,
   "metadata": {},
   "outputs": [],
   "source": [
    "datos = load_breast_cancer()\n",
    "X = datos.data[:, :1]  # Tomamos solo la primera característica para simplificar la visualización\n",
    "y = datos.target  # Clases binarias: 0 para benigno y 1 para maligno"
   ]
  },
  {
   "cell_type": "markdown",
   "metadata": {},
   "source": [
    "# División de los Datos en Entrenamiento y Prueba:\n",
    "\n",
    "<li><b>train_test_split()</b>: Divide los datos en dos partes:<br><ul>\n",
    "    Conjunto de entrenamiento (datos_entrena, clase_entrena): Se utilizará para ajustar el modelo.<br>\n",
    "    Conjunto de prueba (datos_prueba, clase_prueba): Se usará para evaluar el rendimiento del modelo en datos que no ha visto antes.</ul>\n",
    "</li>\n",
    "<li><b>test_size=0.30</b>: El <b>30%</b> de los datos se asigna al conjunto de <b>prueba</b> y el <b>70%</b> al conjunto de <b>entrenamiento</b>.</li>"
   ]
  },
  {
   "cell_type": "code",
   "execution_count": null,
   "metadata": {},
   "outputs": [],
   "source": [
    "# Dividir los datos en entrenamiento y prueba\n",
    "X_train, X_test, y_train, y_test = train_test_split(X, y, test_size=0.30, random_state=0)"
   ]
  },
  {
   "cell_type": "markdown",
   "metadata": {},
   "source": [
    "# Creación y Entrenamiento del Modelo de Regresión Logística:\n",
    "<li>El proceso de entrenamiento de nuestro algoritmo de regresion logistica es el mismo que se uso en regresion lineal </br></li>\n",
    "<li>Sin embargo, la funcion de perdida usada en este caso es la conocida como <b>Perdida Logaritmica</b></li>\n",
    "\n",
    "<img src=\"Resumen_Algoritmo_Entrenamiento.png\" alt=\"Algoritmo de Regresion Logistica\" width=\"600\" />"
   ]
  },
  {
   "cell_type": "markdown",
   "metadata": {},
   "source": [
    "# Implementacion con Scikit Learn\n",
    "\n",
    "<li><b>LogisticRegression()</b>: Usamos la funcion <b>LogisticRegression</b> para implementar nuestro modelo de regresion lineal</li>\n",
    "<li><b>fit()</b>: Con este metodo, implementamos todo el algoritmo de entrenamiento para nuestro modelo de regresion logistica, basandose en los       <b>datos_entrena</b> y sus respectivas etiquetas <b>clase_entrena</b> y en base al modelo creado con <b>LogisticRegression</b></li>"
   ]
  },
  {
   "cell_type": "code",
   "execution_count": null,
   "metadata": {},
   "outputs": [],
   "source": [
    "# Crear el modelo de Regresión Logística\n",
    "\n",
    "modelo = LogisticRegression().fit(X_train, y_train)\n",
    "np.set_printoptions(suppress=True)"
   ]
  },
  {
   "cell_type": "markdown",
   "metadata": {},
   "source": [
    "# Mostrar Predicciones y Resultados:\n",
    "<li><b>np.set_printoptions(suppress=True)</b>: Evita que se muestren los números en notación científica cuando se imprimen.</li>\n",
    "<li><b>modelo.predict(datos_prueba)</b>: Realiza predicciones de la clase (0 o 1) para cada uno de los valores en el conjunto de prueba.<br>\n",
    "    <ul>Estas predicciones se basan en la frecuencia cardíaca de prueba.</ul></li>\n",
    "<li><b>modelo.predict_proba(datos_prueba)</b>: Devuelve las probabilidades de que cada valor de frecuencia cardíaca pertenezca a las clases 0 o 1. <br>\n",
    "    <ul>Esto te muestra qué tan seguro está el modelo de su predicción.</ul></li>\n",
    "<li><b>modelo.score(datos_prueba, clase_prueba)</b>: Muestra la precisión del modelo. <br>\n",
    "    <ul>Es decir, el porcentaje de predicciones correctas que hizo en el conjunto de prueba.</ul></li>\n",
    "<li><b>modelo.intercept_</b>: Es la intersección o valor de sesgo (bias) que ajusta la función de decisión del modelo.</li>\n",
    "<li><b>modelo.coef_</b>: Son los coeficientes que multiplican a las entradas (frecuencias cardíacas) en el modelo.</li>"
   ]
  },
  {
   "cell_type": "code",
   "execution_count": null,
   "metadata": {},
   "outputs": [],
   "source": [
    "# Probar el Modelo Entrenado con Datos de Prueba (test)\n",
    "\n",
    "print(\"Predicciones:\", modelo.predict(X_test))\n",
    "print(\"Probabilidades:\", modelo.predict_proba(X_test))\n",
    "print(\"Precisión:\", modelo.score(X_test, y_test))"
   ]
  },
  {
   "cell_type": "code",
   "execution_count": null,
   "metadata": {},
   "outputs": [],
   "source": [
    "print(\"Intersección (b):\", modelo.intercept_)\n",
    "print(\"Coeficientes (m):\", modelo.coef_)"
   ]
  },
  {
   "cell_type": "markdown",
   "metadata": {},
   "source": [
    "# Graficar los Resultados:"
   ]
  },
  {
   "cell_type": "code",
   "execution_count": null,
   "metadata": {},
   "outputs": [],
   "source": [
    "# Gráfico de la curva sigmoide\n",
    "x_min = X.min()\n",
    "x_max = X.max()\n",
    "x_vals = np.linspace(x_min, x_max, 300).reshape(-1, 1)\n",
    "y_vals = modelo.predict_proba(x_vals)[:, 1]\n",
    "\n",
    "plt.plot(x_vals, y_vals, color=\"black\", label=\"Curva sigmoide\")\n",
    "\n",
    "# Gráfico de los puntos de entrenamiento y prueba\n",
    "plt.scatter(X_train, y_train, color=\"blue\", label=\"Datos de entrenamiento\")\n",
    "plt.scatter(X_test, y_test, color=\"red\", label=\"Datos de prueba\")\n",
    "\n",
    "# Añadir etiquetas y título\n",
    "plt.xlabel(\"Primera característica del cáncer de mama\")\n",
    "plt.ylabel(\"Probabilidad de malignidad\")\n",
    "plt.title(\"Modelo de Regresión Logística\")\n",
    "plt.legend()\n",
    "plt.grid(True)\n",
    "\n",
    "# Mostrar el gráfico\n",
    "plt.show()"
   ]
  },
  {
   "cell_type": "code",
   "execution_count": null,
   "metadata": {},
   "outputs": [],
   "source": []
  }
 ],
 "metadata": {
  "kernelspec": {
   "display_name": "Python 3 (ipykernel)",
   "language": "python",
   "name": "python3"
  },
  "language_info": {
   "codemirror_mode": {
    "name": "ipython",
    "version": 3
   },
   "file_extension": ".py",
   "mimetype": "text/x-python",
   "name": "python",
   "nbconvert_exporter": "python",
   "pygments_lexer": "ipython3",
   "version": "3.11.5"
  }
 },
 "nbformat": 4,
 "nbformat_minor": 4
}
