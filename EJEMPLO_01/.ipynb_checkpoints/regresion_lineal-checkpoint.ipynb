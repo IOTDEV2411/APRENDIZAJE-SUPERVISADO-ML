{
 "cells": [
  {
   "cell_type": "markdown",
   "metadata": {},
   "source": [
    "# Regresión Lineal\n",
    "\n",
    "<li>La regresión lineal es un modelo utilizado para predecir un valor numérico continuo basado en una o más variables independientes.</li>\n",
    "<li>El objetivo es encontrar la línea que mejor ajuste los datos, minimizando el error.</li>"
   ]
  },
  {
   "cell_type": "markdown",
   "metadata": {},
   "source": [
    "# Fórmula Matemática:\n",
    "\n",
    "<li>La fórmula de la regresión lineal para una variable independiente es:</li>\n",
    "\n",
    "<img src=\"Modelo_Matematico_Linear_Regression.png\" alt=\"Modelo Matematico\" width=\"400\" />\n"
   ]
  },
  {
   "cell_type": "markdown",
   "metadata": {},
   "source": [
    "# Suposiciones\n",
    "\n",
    "<ul>\n",
    "<li>Relación lineal</li>\n",
    "<li>Datos de Entradas no Correlacionadas</li>\n",
    "<li>Sin Outliers</li>\n",
    "</ul>"
   ]
  },
  {
   "cell_type": "markdown",
   "metadata": {},
   "source": [
    "# Importacion de Librerias"
   ]
  },
  {
   "cell_type": "code",
   "execution_count": null,
   "metadata": {},
   "outputs": [],
   "source": [
    "import pandas as pd\n",
    "import matplotlib.pyplot as plt"
   ]
  },
  {
   "cell_type": "markdown",
   "metadata": {},
   "source": [
    "# Importacion de Datos"
   ]
  },
  {
   "cell_type": "code",
   "execution_count": null,
   "metadata": {},
   "outputs": [],
   "source": [
    "datos = pd.read_csv(\"ingreso.csv\", delimiter=';')\n",
    "print(datos)"
   ]
  },
  {
   "cell_type": "markdown",
   "metadata": {},
   "source": [
    "# Grafico de los datos"
   ]
  },
  {
   "cell_type": "code",
   "execution_count": null,
   "metadata": {},
   "outputs": [],
   "source": [
    "plt.ylabel(\"Ingreso ($)\")\n",
    "plt.xlabel(\"Promedio de horas semanales trabajadas\")\n",
    "plt.scatter(datos[\"horas\"], datos[\"ingreso\"], color=\"pink\")\n",
    "plt.grid(True)\n",
    "plt.show()"
   ]
  },
  {
   "cell_type": "markdown",
   "metadata": {},
   "source": [
    "# Creación del Modelo de Regresión Lineal"
   ]
  },
  {
   "cell_type": "markdown",
   "metadata": {},
   "source": [
    "# Importación de la librería scikit-learn:\n",
    "\n",
    "<li>Se importa el módulo linear_model de sklearn, que contiene algoritmos para regresión lineal</li>"
   ]
  },
  {
   "cell_type": "code",
   "execution_count": null,
   "metadata": {},
   "outputs": [],
   "source": [
    "from sklearn import linear_model"
   ]
  },
  {
   "cell_type": "markdown",
   "metadata": {},
   "source": [
    "# Creación del modelo de regresión lineal:\n",
    "<li>Se crea una instancia del modelo de regresión lineal llamado regresion</li>"
   ]
  },
  {
   "cell_type": "code",
   "execution_count": null,
   "metadata": {},
   "outputs": [],
   "source": [
    "regresion = linear_model.LinearRegression()"
   ]
  },
  {
   "cell_type": "markdown",
   "metadata": {},
   "source": [
    "# Transformación de los datos:\n",
    "\n",
    "<li>Se extrae la columna \"horas\" del DataFrame datos</li>\n",
    "<li>Se transforma en un arreglo 2D con reshape((-1, 1))</li>\n",
    "<li>Donde: </li>\n",
    "<ul>\"-1\" significa que se ajustará automáticamente el número de filas<br>\n",
    "    \"1\" indica que hay una sola columna de características (horas trabajadas)</ul>"
   ]
  },
  {
   "cell_type": "code",
   "execution_count": null,
   "metadata": {},
   "outputs": [],
   "source": [
    "horas = datos[\"horas\"].values.reshape((-1, 1))"
   ]
  },
  {
   "cell_type": "markdown",
   "metadata": {},
   "source": [
    "# Entrenamiento del modelo:\n",
    "\n",
    "<li>El entrenamiento del modelo de regresión lineal implica encontrar los coeficientes 𝑤 que minimicen el <b>error cuadrático medio (MSE)</b>:</li>\n",
    "\n",
    "<img src=\"Ecuacion_Error_Linear_Regression.png\" alt=\"Modelo Matematico\" width=\"200\" />\n",
    "\n",
    "<li>La formula para actualizar los pesos <b>w</b> y los sesgos <b>b</b> es mediante el calculo de la derivada parcial de la funcion de costo: <br> </li>\n",
    "\n",
    "<img src=\"Gradiente_Descendente_Linear_Regression.png\" alt=\"Gradiente Descendente\" width=\"200\"/>\n",
    "\n",
    "<li>El calculo del valor de las derivadas parciales de la funcion de costo se calculan de la siguiente forma:</li>\n",
    "\n",
    "<img src=\"Derivadas_Parciales_Linear_Regression.png\" alt=\"Derivadas Parciales\" width=\"400\"/>\n",
    "\n",
    "<li>La ejecucion de todo el algoritmo presentado se encarga el metodo <b>fit</b> en base modelo creado con el metodo <b>LinearRegression</b></li>\n",
    "\n",
    "<li>Se entrena el modelo de regresión lineal utilizando los datos de horas trabajadas como entrada (X) y los ingresos como salida (Y)</li>"
   ]
  },
  {
   "cell_type": "code",
   "execution_count": null,
   "metadata": {},
   "outputs": [],
   "source": [
    "modelo = regresion.fit(horas, datos[\"ingreso\"])"
   ]
  },
  {
   "cell_type": "markdown",
   "metadata": {},
   "source": [
    "# Impresión de la intersección y la pendiente:\n",
    "\n",
    "<li>Considerando el caso de regresion lineal simple (una entrada y una salida), con el anterior algoritmo de entrenamiento obtenemos la pendiente y la interseccion</li>"
   ]
  },
  {
   "cell_type": "code",
   "execution_count": null,
   "metadata": {},
   "outputs": [],
   "source": [
    "print(\"Intersección (b)\", modelo.intercept_)\n",
    "print(\"Pendiente (m)\", modelo.coef_)"
   ]
  },
  {
   "cell_type": "markdown",
   "metadata": {},
   "source": [
    "# Predicciones:"
   ]
  },
  {
   "cell_type": "code",
   "execution_count": null,
   "metadata": {},
   "outputs": [],
   "source": [
    "entrada = [[35], [48], [30], [50]]\n",
    "modelo.predict(entrada)"
   ]
  },
  {
   "cell_type": "markdown",
   "metadata": {},
   "source": [
    "# Gráficas de resultados:"
   ]
  },
  {
   "cell_type": "code",
   "execution_count": null,
   "metadata": {},
   "outputs": [],
   "source": [
    "plt.scatter(entrada, modelo.predict(entrada), color=\"red\")\n",
    "plt.plot(entrada, modelo.predict(entrada), color=\"black\")\n",
    "\n",
    "plt.ylabel(\"Ingreso ($)\")\n",
    "plt.xlabel(\"Promedio de horas semanales trabajadas\")\n",
    "plt.scatter(datos[\"horas\"], datos[\"ingreso\"], color=\"pink\", alpha=0.55)\n",
    "plt.grid(True)\n",
    "plt.show()"
   ]
  },
  {
   "cell_type": "code",
   "execution_count": null,
   "metadata": {},
   "outputs": [],
   "source": []
  }
 ],
 "metadata": {
  "kernelspec": {
   "display_name": "Python 3 (ipykernel)",
   "language": "python",
   "name": "python3"
  },
  "language_info": {
   "codemirror_mode": {
    "name": "ipython",
    "version": 3
   },
   "file_extension": ".py",
   "mimetype": "text/x-python",
   "name": "python",
   "nbconvert_exporter": "python",
   "pygments_lexer": "ipython3",
   "version": "3.11.5"
  }
 },
 "nbformat": 4,
 "nbformat_minor": 4
}
