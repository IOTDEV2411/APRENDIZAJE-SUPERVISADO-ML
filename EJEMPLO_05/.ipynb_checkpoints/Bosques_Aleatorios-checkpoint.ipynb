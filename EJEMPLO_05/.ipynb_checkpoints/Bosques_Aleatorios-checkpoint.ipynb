{
 "cells": [
  {
   "cell_type": "markdown",
   "id": "ae70050a-e8fc-4330-a9b6-807e700848ff",
   "metadata": {},
   "source": [
    "# Importacion de librerias"
   ]
  },
  {
   "cell_type": "code",
   "execution_count": null,
   "id": "3aca67ab-fd6b-428f-bbc9-242d11f96cf6",
   "metadata": {},
   "outputs": [],
   "source": [
    "from sklearn.datasets import load_iris\n",
    "from sklearn.ensemble import RandomForestClassifier\n",
    "from sklearn.model_selection import train_test_split\n",
    "from sklearn.metrics import accuracy_score, classification_report, confusion_matrix\n",
    "import matplotlib.pyplot as plt\n",
    "import seaborn as sns"
   ]
  },
  {
   "cell_type": "markdown",
   "id": "ad40332d-3a10-421a-8a06-cf1050e63868",
   "metadata": {},
   "source": [
    "# Importacion de Datos de Entrenamiento\n",
    "\n",
    "<lI>En este caso, importaremos el <b>conjunto de datos</b> de la flor <b>iris</b> disponible en la pagina oficial de <b>scikit-learn</b>:</lI>\n",
    "<li><b>https://scikit-learn.org/stable/modules/generated/sklearn.datasets.load_iris.html#sklearn.datasets.load_iris</b></li>"
   ]
  },
  {
   "cell_type": "code",
   "execution_count": null,
   "id": "15f9bf25-7ec3-4ea4-9566-08b6d7da641e",
   "metadata": {},
   "outputs": [],
   "source": [
    "data = load_iris()\n",
    "X, y = data.data, data.target  # Características y etiquetas"
   ]
  },
  {
   "cell_type": "markdown",
   "id": "86340cf0-6055-4738-94e5-662c3858c1ea",
   "metadata": {},
   "source": [
    "# Dividir el conjunto de datos en entrenamiento y prueba"
   ]
  },
  {
   "cell_type": "code",
   "execution_count": null,
   "id": "5d61fb18-d181-4b39-8ba9-2ebfa9f09ef4",
   "metadata": {},
   "outputs": [],
   "source": [
    "X_train, X_test, y_train, y_test = train_test_split(X, y, test_size=0.3, random_state=42)"
   ]
  },
  {
   "cell_type": "markdown",
   "id": "d6940a97-f7cb-41a0-a345-747a8a7ebe77",
   "metadata": {},
   "source": [
    "# Creacion de Modelo de Bosque Aleatorio"
   ]
  },
  {
   "cell_type": "code",
   "execution_count": null,
   "id": "6ac0cb7d-99ba-42fa-863a-5461dbacb095",
   "metadata": {},
   "outputs": [],
   "source": [
    "clf = RandomForestClassifier(n_estimators=100, random_state=42)  # n_estimators es el número de árboles en el bosque"
   ]
  },
  {
   "cell_type": "markdown",
   "id": "f8ce446f-9bbf-4789-91e6-a9fa99e15c0a",
   "metadata": {},
   "source": [
    "# Entrenamiento del modelo"
   ]
  },
  {
   "cell_type": "code",
   "execution_count": null,
   "id": "e6c00883-c0e2-4055-b705-72f08088ae9f",
   "metadata": {},
   "outputs": [],
   "source": [
    "clf.fit(X_train, y_train)"
   ]
  },
  {
   "cell_type": "markdown",
   "id": "fa50ccd0-3ebe-4cc3-940b-218a864f598b",
   "metadata": {},
   "source": [
    "# Predicciones en el conjunto de prueba"
   ]
  },
  {
   "cell_type": "code",
   "execution_count": null,
   "id": "3f9967e7-3c83-478e-a207-1d1e246bd5c7",
   "metadata": {},
   "outputs": [],
   "source": [
    "y_pred = clf.predict(X_test)"
   ]
  },
  {
   "cell_type": "markdown",
   "id": "1b231f8f-cef8-4eed-985d-60c28dd66cdc",
   "metadata": {},
   "source": [
    "# Evaluacion del modelo <b>Bosques Aleatorios</b>"
   ]
  },
  {
   "cell_type": "code",
   "execution_count": null,
   "id": "80cef186-3966-4b5a-b585-05dc68a2e919",
   "metadata": {},
   "outputs": [],
   "source": [
    "accuracy = accuracy_score(y_test, y_pred)\n",
    "print(\"Precision:\", accuracy)\n",
    "print(\"\\nReporte de Clasificacion:\\n\", classification_report(y_test, y_pred))\n",
    "print(\"\\nMatriz de Confusion:\\n\", confusion_matrix(y_test, y_pred))"
   ]
  },
  {
   "cell_type": "markdown",
   "id": "b54ad3ee-7046-43a8-afd7-be6507ca20ee",
   "metadata": {},
   "source": [
    "# Grafico de Resultados"
   ]
  },
  {
   "cell_type": "code",
   "execution_count": null,
   "id": "2991ea9e-8715-41d6-9761-a9881ae8988d",
   "metadata": {},
   "outputs": [],
   "source": [
    "plt.figure(figsize=(8, 6))\n",
    "sns.heatmap(confusion_matrix(y_test, y_pred), annot=True, cmap=\"Blues\", fmt=\"d\",\n",
    "            xticklabels=data.target_names, yticklabels=data.target_names)\n",
    "plt.xlabel(\"Etiquetas Predecidas\")\n",
    "plt.ylabel(\"Etiquetas Correctas\")\n",
    "plt.title(\"Matriz de Confusion para Clasificador con Bosques Aleatorios\")\n",
    "plt.show()"
   ]
  }
 ],
 "metadata": {
  "kernelspec": {
   "display_name": "Python 3 (ipykernel)",
   "language": "python",
   "name": "python3"
  },
  "language_info": {
   "codemirror_mode": {
    "name": "ipython",
    "version": 3
   },
   "file_extension": ".py",
   "mimetype": "text/x-python",
   "name": "python",
   "nbconvert_exporter": "python",
   "pygments_lexer": "ipython3",
   "version": "3.11.5"
  }
 },
 "nbformat": 4,
 "nbformat_minor": 5
}
